{
 "cells": [
  {
   "cell_type": "markdown",
   "metadata": {},
   "source": [
    "## Lab Experiment 07\n",
    "### Problem\n",
    "Write a python program to create an array with 10 values and delete the value at position 4. (Without using built-in functions)"
   ]
  },
  {
   "cell_type": "code",
   "execution_count": 9,
   "metadata": {},
   "outputs": [
    {
     "name": "stdout",
     "output_type": "stream",
     "text": [
      "Array before deletion: [0, 1, 2, 3, 4, 5, 6, 7, 8, 9]\n",
      "Array after deletion:  [0, 1, 2, 3, 5, 6, 7, 8, 9]\n"
     ]
    }
   ],
   "source": [
    "import array as a\n",
    "\n",
    "arr = a.array('i', [0, 1, 2, 3, 4, 5, 6, 7, 8, 9])\n",
    "pos_to_del = 4\n",
    "\n",
    "print(\"Array before deletion:\", list(arr))\n",
    "for i in range(pos_to_del, len(arr)-1):\n",
    "    arr[i] = arr[i+1]\n",
    "arr = arr[:len(arr)-1]\n",
    "\n",
    "print(\"Array after deletion: \", list(arr))"
   ]
  }
 ],
 "metadata": {
  "kernelspec": {
   "display_name": "env",
   "language": "python",
   "name": "python3"
  },
  "language_info": {
   "codemirror_mode": {
    "name": "ipython",
    "version": 3
   },
   "file_extension": ".py",
   "mimetype": "text/x-python",
   "name": "python",
   "nbconvert_exporter": "python",
   "pygments_lexer": "ipython3",
   "version": "3.10.10"
  }
 },
 "nbformat": 4,
 "nbformat_minor": 2
}
