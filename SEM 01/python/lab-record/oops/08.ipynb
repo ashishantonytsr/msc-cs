{
 "cells": [
  {
   "cell_type": "markdown",
   "metadata": {},
   "source": [
    "## Problem\n",
    "Write a python program to create a shopping cart class with methods for adding/removing items and calculating the total price."
   ]
  },
  {
   "cell_type": "code",
   "execution_count": 8,
   "metadata": {},
   "outputs": [
    {
     "name": "stdout",
     "output_type": "stream",
     "text": [
      "65.98\n",
      "100\n",
      "165.98000000000002\n"
     ]
    }
   ],
   "source": [
    "class ShoppingCart:\n",
    "    def __init__(self):\n",
    "        self.items = []\n",
    "    \n",
    "    def add_item(self, item):\n",
    "        self.items.append(item)\n",
    "    \n",
    "    def remove_item(self, item):\n",
    "        self.items.remove(item)\n",
    "    \n",
    "    def get_total_price(self):\n",
    "        total = 0\n",
    "        for item in self.items:\n",
    "            total += item\n",
    "        return total\n",
    "\n",
    "    def __add__(obj1, obj2):\n",
    "        s =  ShoppingCart()\n",
    "        items = obj1.items + obj2.items\n",
    "        for item in items:\n",
    "            s.add_item(item)\n",
    "        return s\n",
    "\n",
    "\n",
    "s1 = ShoppingCart()\n",
    "s1.add_item(35.99)\n",
    "s1.add_item(29.99)\n",
    "print(s1.get_total_price())\n",
    "\n",
    "s2 = ShoppingCart()\n",
    "s2.add_item(23)\n",
    "s2.add_item(77)\n",
    "print(s2.get_total_price())\n",
    "\n",
    "s = s1 + s2\n",
    "print(s.get_total_price())"
   ]
  }
 ],
 "metadata": {
  "kernelspec": {
   "display_name": "env",
   "language": "python",
   "name": "python3"
  },
  "language_info": {
   "codemirror_mode": {
    "name": "ipython",
    "version": 3
   },
   "file_extension": ".py",
   "mimetype": "text/x-python",
   "name": "python",
   "nbconvert_exporter": "python",
   "pygments_lexer": "ipython3",
   "version": "3.10.10"
  }
 },
 "nbformat": 4,
 "nbformat_minor": 2
}
