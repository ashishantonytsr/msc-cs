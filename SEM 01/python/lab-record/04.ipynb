{
 "cells": [
  {
   "cell_type": "markdown",
   "metadata": {},
   "source": [
    "## Problem\n",
    "Write a python program to create a function called `list_of_frequency` that takes a string and prints the letters in non-increasing order of the frequency of their occurrences. Use dictionaries."
   ]
  },
  {
   "cell_type": "code",
   "execution_count": 3,
   "metadata": {},
   "outputs": [
    {
     "name": "stdout",
     "output_type": "stream",
     "text": [
      "Order of frequency of occurences\n",
      "e : 4\n",
      "h : 3\n",
      "E : 3\n",
      "t : 2\n",
      "f : 2\n",
      "5 : 1\n",
      "8 : 1\n",
      "# : 1\n",
      "W : 1\n"
     ]
    }
   ],
   "source": [
    "def list_of_frequency(str):\n",
    "    freq_list = {}\n",
    "\n",
    "    for letter in str:\n",
    "        if letter not in freq_list:\n",
    "            freq_list[letter]= 1\n",
    "        else:\n",
    "            freq_list[letter] += 1\n",
    "\n",
    "\n",
    "    print(\"Order of frequency of occurences\")\n",
    "    while freq_list.items():\n",
    "        high_freq = {\"key\": '', \"value\": 0}\n",
    "\n",
    "        for key,value in freq_list.items():\n",
    "            if value > high_freq['value']:\n",
    "                high_freq['key'] = key\n",
    "                high_freq['value'] = value\n",
    "        del freq_list[high_freq['key']]\n",
    "\n",
    "        print(f\"{high_freq['key']} : {high_freq['value']}\")\n",
    "\n",
    "\n",
    "list_of_frequency(\"tthhh58eeEEEff#Wee\")"
   ]
  }
 ],
 "metadata": {
  "kernelspec": {
   "display_name": "env",
   "language": "python",
   "name": "python3"
  },
  "language_info": {
   "codemirror_mode": {
    "name": "ipython",
    "version": 3
   },
   "file_extension": ".py",
   "mimetype": "text/x-python",
   "name": "python",
   "nbconvert_exporter": "python",
   "pygments_lexer": "ipython3",
   "version": "3.10.10"
  }
 },
 "nbformat": 4,
 "nbformat_minor": 2
}
