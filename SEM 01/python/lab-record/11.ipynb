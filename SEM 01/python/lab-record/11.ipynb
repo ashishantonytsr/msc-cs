{
 "cells": [
  {
   "cell_type": "markdown",
   "metadata": {},
   "source": [
    "## Problem\n",
    "Write a python program to create a `Calculator` class that includes methods for basic arithmetic operations (addition, substraction, multiplication, division)"
   ]
  },
  {
   "cell_type": "code",
   "execution_count": 4,
   "metadata": {},
   "outputs": [
    {
     "name": "stdout",
     "output_type": "stream",
     "text": [
      "4 + 5 = 9\n",
      "4 - 5 = -1\n",
      "4 * 5 = 20\n",
      "4 / 5 = 0.8\n"
     ]
    }
   ],
   "source": [
    "class Calculator:\n",
    "    def __init__(self, a, b):\n",
    "        self.num1 = a\n",
    "        self.num2 = b\n",
    "\n",
    "    def add(self):\n",
    "        return self.num1+self.num2\n",
    "\n",
    "    def substract(self):\n",
    "        return self.num1-self.num2\n",
    "\n",
    "    def product(self):\n",
    "        return self.num1*self.num2\n",
    "\n",
    "    def divide(self):\n",
    "        return self.num1/self.num2\n",
    "\n",
    "\n",
    "a = 4\n",
    "b = 5\n",
    "c = Calculator(a, b)\n",
    "print(f'{a} + {b} = {c.add()}')\n",
    "print(f'{a} - {b} = {c.substract()}')\n",
    "print(f'{a} * {b} = {c.product()}')\n",
    "print(f'{a} / {b} = {c.divide()}')"
   ]
  }
 ],
 "metadata": {
  "kernelspec": {
   "display_name": "env",
   "language": "python",
   "name": "python3"
  },
  "language_info": {
   "codemirror_mode": {
    "name": "ipython",
    "version": 3
   },
   "file_extension": ".py",
   "mimetype": "text/x-python",
   "name": "python",
   "nbconvert_exporter": "python",
   "pygments_lexer": "ipython3",
   "version": "3.10.10"
  }
 },
 "nbformat": 4,
 "nbformat_minor": 2
}
