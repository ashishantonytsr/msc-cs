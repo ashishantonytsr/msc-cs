{
 "cells": [
  {
   "cell_type": "markdown",
   "metadata": {},
   "source": [
    "## Problem\n",
    "Write a python program to create a class representing a `BinarySearchTree` with methods for inserting and searching for elements."
   ]
  },
  {
   "cell_type": "code",
   "execution_count": 22,
   "metadata": {},
   "outputs": [
    {
     "name": "stdout",
     "output_type": "stream",
     "text": [
      "Inorder traversal: [3, 5, 7, 10, 12, 15, 18]\n",
      "Search for 7: <__main__.Node object at 0x00000285EFD2AF50>\n",
      "Search for 20: None\n"
     ]
    }
   ],
   "source": [
    "class Node:\n",
    "    def __init__(self, key):\n",
    "        self.key = key\n",
    "        self.left = None\n",
    "        self.right = None\n",
    "\n",
    "\n",
    "class BinarySearchTree:\n",
    "    def __init__(self):\n",
    "        self.root = None\n",
    "\n",
    "    def insert(self, key):\n",
    "        if self.root is None:\n",
    "            self.root = Node(key)\n",
    "        else:\n",
    "            self._insert(self.root, key)\n",
    "\n",
    "    def _insert(self, root, key):\n",
    "        if key < root.key:\n",
    "            if root.left is None:\n",
    "                root.left = Node(key)\n",
    "            else:\n",
    "                self._insert(root.left, key)\n",
    "        else:\n",
    "            if root.right is None:\n",
    "                root.right = Node(key)\n",
    "            else:\n",
    "                self._insert(root.right, key)\n",
    "\n",
    "    def search(self, key):\n",
    "        return self._search(self.root, key)\n",
    "\n",
    "    def _search(self, root, key):\n",
    "        if root is None or key == root.key:\n",
    "            return root\n",
    "\n",
    "        if key < root.key:\n",
    "            return self._search(root.left, key)\n",
    "        else:\n",
    "            return self._search(root.right, key)\n",
    "\n",
    "    def inorder_traversal(self):\n",
    "        return self._inorder_traversal(self.root, [])\n",
    "\n",
    "    def _inorder_traversal(self, root, result):\n",
    "        if root:\n",
    "            self._inorder_traversal(root.left, result)\n",
    "            result.append(root.key)\n",
    "            self._inorder_traversal(root.right, result)\n",
    "        return result\n",
    "\n",
    "\n",
    "bst = BinarySearchTree()\n",
    "bst.insert(10)\n",
    "bst.insert(5)\n",
    "bst.insert(15)\n",
    "bst.insert(3)\n",
    "bst.insert(7)\n",
    "bst.insert(12)\n",
    "bst.insert(18)\n",
    "\n",
    "print(f'Inorder traversal: {bst.inorder_traversal()}')\n",
    "print(f'Search for 7: {bst.search(7)}')\n",
    "print(f'Search for 20: {bst.search(20)}')"
   ]
  }
 ],
 "metadata": {
  "kernelspec": {
   "display_name": "env",
   "language": "python",
   "name": "python3"
  },
  "language_info": {
   "codemirror_mode": {
    "name": "ipython",
    "version": 3
   },
   "file_extension": ".py",
   "mimetype": "text/x-python",
   "name": "python",
   "nbconvert_exporter": "python",
   "pygments_lexer": "ipython3",
   "version": "3.10.10"
  }
 },
 "nbformat": 4,
 "nbformat_minor": 2
}
