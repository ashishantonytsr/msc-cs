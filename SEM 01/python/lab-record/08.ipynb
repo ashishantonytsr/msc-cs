{
 "cells": [
  {
   "cell_type": "markdown",
   "metadata": {},
   "source": [
    "## Problem\n",
    "Write a python program to reverse an array without using built-in functions."
   ]
  },
  {
   "cell_type": "code",
   "execution_count": 4,
   "metadata": {},
   "outputs": [
    {
     "name": "stdout",
     "output_type": "stream",
     "text": [
      "Array before reversing: [7, 4, 6, 3, 9, 8]\n",
      "Array before reversing: [8, 9, 3, 6, 4, 7]\n"
     ]
    }
   ],
   "source": [
    "import array as a\n",
    "\n",
    "l = input(\"Enter the array elements: \").split()\n",
    "\n",
    "arr = a.array('i', [int(item) for item in l])\n",
    "print(\"Array before reversing:\", list(arr))\n",
    "rev = arr[::-1]\n",
    "print(\"Array before reversing:\", list(rev))\n"
   ]
  }
 ],
 "metadata": {
  "kernelspec": {
   "display_name": "env",
   "language": "python",
   "name": "python3"
  },
  "language_info": {
   "codemirror_mode": {
    "name": "ipython",
    "version": 3
   },
   "file_extension": ".py",
   "mimetype": "text/x-python",
   "name": "python",
   "nbconvert_exporter": "python",
   "pygments_lexer": "ipython3",
   "version": "3.10.10"
  }
 },
 "nbformat": 4,
 "nbformat_minor": 2
}
