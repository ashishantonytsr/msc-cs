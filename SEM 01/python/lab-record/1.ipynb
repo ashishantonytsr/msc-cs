{
 "cells": [
  {
   "cell_type": "markdown",
   "metadata": {},
   "source": [
    "## Lab Experiment 1\n",
    "### Problem\n",
    "Write a python program to check the validity of a password given by the user. The password should satisfy the following criteria:\n",
    "1. Contains atleast one letter between a and z.\n",
    "2. Contains atleast one number between 0 and 9.\n",
    "3. Contains atleast one letter between A and Z.\n",
    "4. Contains atleast one special character from $, #, @\n",
    "5. Minimum length of password is 6.\n"
   ]
  },
  {
   "cell_type": "code",
   "execution_count": null,
   "metadata": {},
   "outputs": [],
   "source": [
    "def is_valid(password):\n",
    "    contains_lowercase = False\n",
    "    lowercase_letters = \"abcdefghijklmnopqrstuvwxyz\"\n",
    "\n",
    "    contains_uppercase = False\n",
    "    uppercase_letters = \"ABCDEFGHIJKLMNOPQRSTUVWXYZ\"\n",
    "\n",
    "    contains_numbers = False\n",
    "    numbers = \"0123456789\"\n",
    "\n",
    "    contains_spcl_char = False\n",
    "    spcl_chars = \"$#@\"\n",
    "\n",
    "    for letter in lowercase_letters:\n",
    "        contains_lowercase = True if letter in password else contains_lowercase\n",
    "\n",
    "    for letter in uppercase_letters:\n",
    "        contains_uppercase = True if letter in password else contains_uppercase\n",
    "\n",
    "    for number in numbers:\n",
    "        contains_numbers = True if number in password else contains_numbers\n",
    "\n",
    "    for char in spcl_chars:\n",
    "        contains_spcl_char = True if char in password else contains_spcl_char\n",
    "\n",
    "\n",
    "    return (len(password) >= 6 and contains_lowercase and contains_uppercase and \n",
    "        contains_numbers and contains_spcl_char)\n",
    "\n",
    "if __name__ == '__main__':\n",
    "    password = input(\"Enter the password: \")\n",
    "    print(\"Password is valid\") if is_valid(password) else print(\"Password is invalid\")"
   ]
  },
  {
   "cell_type": "markdown",
   "metadata": {},
   "source": [
    "---\n",
    "### Tests"
   ]
  },
  {
   "cell_type": "code",
   "execution_count": 21,
   "metadata": {},
   "outputs": [
    {
     "name": "stdout",
     "output_type": "stream",
     "text": [
      "TEST 0: PASSED\n",
      "TEST 1: PASSED\n",
      "TEST 2: PASSED\n",
      "TEST 3: PASSED\n",
      "TEST 4: PASSED\n"
     ]
    }
   ],
   "source": [
    "tests = [\n",
    "    { 'input': 'hdwol#', 'output': False }, # does not contain number and uppercase letter\n",
    "    { 'input': 'Hewli#$0', 'output': True },\n",
    "    { 'input': 'te2li#$0', 'output': False }, # does not contain uppercase letter\n",
    "    { 'input': 'eW#$0', 'output': False }, # does not satisfy min password length\n",
    "    { 'input': 'dyeiR2', 'output': False }, # does not contain spcl char\n",
    "]\n",
    "\n",
    "for test in tests:\n",
    "    print(\"TEST\", tests.index(test), end=': ')\n",
    "    print(\"PASSED\") if is_valid(test['input']) == test['output'] else print(\"FAILED\")"
   ]
  }
 ],
 "metadata": {
  "kernelspec": {
   "display_name": "env",
   "language": "python",
   "name": "python3"
  },
  "language_info": {
   "codemirror_mode": {
    "name": "ipython",
    "version": 3
   },
   "file_extension": ".py",
   "mimetype": "text/x-python",
   "name": "python",
   "nbconvert_exporter": "python",
   "pygments_lexer": "ipython3",
   "version": "3.10.10"
  }
 },
 "nbformat": 4,
 "nbformat_minor": 2
}
