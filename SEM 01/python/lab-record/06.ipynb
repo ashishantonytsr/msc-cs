{
 "cells": [
  {
   "cell_type": "markdown",
   "metadata": {},
   "source": [
    "## Problem\n",
    "Write a python program to read user input for an array and searching for an element in it. (Without using built-in functions)"
   ]
  },
  {
   "cell_type": "code",
   "execution_count": 3,
   "metadata": {},
   "outputs": [
    {
     "name": "stdout",
     "output_type": "stream",
     "text": [
      "The array is:  [4, 7, 6, 2, 5, 9, 8, 1]\n",
      "Element found at position 3.\n"
     ]
    }
   ],
   "source": [
    "import array as a\n",
    "\n",
    "l = input(\"Enter the array elements: \").split()\n",
    "arr = a.array('i', [int(item) for item in l])\n",
    "\n",
    "print(\"The array is: \", list(arr))\n",
    "search_key = int(input(\"Enter the search element: \"))\n",
    "\n",
    "if search_key in arr:\n",
    "    print(f\"Element found at position {arr.index(search_key)+1}.\")\n",
    "else:\n",
    "    print(\"Element not found.\")"
   ]
  }
 ],
 "metadata": {
  "kernelspec": {
   "display_name": "env",
   "language": "python",
   "name": "python3"
  },
  "language_info": {
   "codemirror_mode": {
    "name": "ipython",
    "version": 3
   },
   "file_extension": ".py",
   "mimetype": "text/x-python",
   "name": "python",
   "nbconvert_exporter": "python",
   "pygments_lexer": "ipython3",
   "version": "3.10.10"
  }
 },
 "nbformat": 4,
 "nbformat_minor": 2
}
