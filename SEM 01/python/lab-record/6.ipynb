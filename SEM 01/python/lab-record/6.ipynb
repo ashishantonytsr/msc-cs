{
 "cells": [
  {
   "cell_type": "markdown",
   "metadata": {},
   "source": [
    "## Lab Experiment 06\n",
    "### Problem\n",
    "Write a python program to add two matrices and find the transpose of the resultant matrix."
   ]
  },
  {
   "cell_type": "code",
   "execution_count": 2,
   "metadata": {},
   "outputs": [
    {
     "name": "stdout",
     "output_type": "stream",
     "text": [
      "\n",
      "Enter the first matrix elements\n",
      "\n",
      "The first matrix:\n",
      " 1  2  3 \n",
      " 4  5  6 \n",
      "\n",
      "Enter the second matrix elements\n",
      "\n",
      "The second matrix:\n",
      " 1  2  3 \n",
      " 4  5  6 \n",
      "\n",
      "The sum of the matrices:\n",
      " 2  4  6 \n",
      " 8 10 12 \n",
      "\n",
      "The transpose of the resultant matrix:\n",
      " 2  8 \n",
      " 4 10 \n",
      " 6 12 \n",
      "\n"
     ]
    }
   ],
   "source": [
    "def read_matrix(rows, cols):\n",
    "    matrix = [[None]*cols for _ in range(rows)]\n",
    "\n",
    "    for i in range(rows):\n",
    "        for j in range(cols):\n",
    "            matrix[i][j] = int(input(f\"Enter matrix[{i+1}][{j+1}]: \"))\n",
    "\n",
    "    return matrix\n",
    "\n",
    "\n",
    "def add_matrices(matrix1, matrix2):\n",
    "    rows = len(matrix1)\n",
    "    cols = len(matrix1[0])\n",
    "    matrix = [[None]*cols for _ in range(rows)]\n",
    "\n",
    "    for i in range(rows):\n",
    "        for j in range(cols):\n",
    "            matrix[i][j] = matrix1[i][j] + matrix2[i][j]\n",
    "\n",
    "    return matrix\n",
    "\n",
    "\n",
    "def transpose(matrix):\n",
    "    rows = len(matrix)\n",
    "    cols = len(matrix[0])\n",
    "    t_matrix = [[None]*rows for _ in range(cols)]\n",
    "\n",
    "    for i in range(rows):\n",
    "        for j in range(cols):\n",
    "            t_matrix[j][i] = matrix[i][j]\n",
    "\n",
    "    return t_matrix\n",
    "\n",
    "\n",
    "def display(matrix):\n",
    "    rows = len(matrix)\n",
    "    cols = len(matrix[0])\n",
    "\n",
    "    for i in range(rows):\n",
    "        for j in range(cols):\n",
    "            print(f\"{matrix[i][j] :2d} \", end='')\n",
    "        print()\n",
    "    print()\n",
    "\n",
    "\n",
    "r = int(input(\"Enter the number of rows: \"))\n",
    "c = int(input(\"Enter the number of cols: \"))\n",
    "\n",
    "print(\"\\nEnter the first matrix elements\")\n",
    "m1 = read_matrix(r, c)\n",
    "print(\"\\nThe first matrix:\")\n",
    "display(m1)\n",
    "\n",
    "print(\"Enter the second matrix elements\")\n",
    "m2 = read_matrix(r, c)\n",
    "print(\"\\nThe second matrix:\")\n",
    "display(m2)\n",
    "\n",
    "m = add_matrices(m1, m2)\n",
    "print(\"The sum of the matrices:\")\n",
    "display(m)\n",
    "\n",
    "t = transpose(m)\n",
    "print(\"The transpose of the resultant matrix:\")\n",
    "display(t)"
   ]
  }
 ],
 "metadata": {
  "kernelspec": {
   "display_name": "env",
   "language": "python",
   "name": "python3"
  },
  "language_info": {
   "codemirror_mode": {
    "name": "ipython",
    "version": 3
   },
   "file_extension": ".py",
   "mimetype": "text/x-python",
   "name": "python",
   "nbconvert_exporter": "python",
   "pygments_lexer": "ipython3",
   "version": "3.10.10"
  }
 },
 "nbformat": 4,
 "nbformat_minor": 2
}
