{
 "cells": [
  {
   "cell_type": "markdown",
   "metadata": {},
   "source": [
    "## Lab Experiment 10\n",
    "### Problem\n",
    "Write a python program to create a person class with attributes like name, country and day of birth. Implement a method to determine the person's age"
   ]
  },
  {
   "cell_type": "code",
   "execution_count": 1,
   "metadata": {},
   "outputs": [
    {
     "name": "stdout",
     "output_type": "stream",
     "text": [
      "Tom is 25 years old.\n"
     ]
    }
   ],
   "source": [
    "from datetime import datetime\n",
    "\n",
    "\n",
    "class Person:\n",
    "    def __init__(self, name, country, dob):\n",
    "        self.name = name\n",
    "        self.country = country\n",
    "        day, month, year = dob.split('/')\n",
    "        self.dob = datetime(int(year), int(month), int(day))\n",
    "\n",
    "    def get_age(self):\n",
    "        curr_day = datetime.now().day\n",
    "        curr_month = datetime.now().month\n",
    "        curr_year = datetime.now().year\n",
    "\n",
    "        age = curr_year - self.dob.year\n",
    "        if curr_month < self.dob.month:\n",
    "            age -= 1\n",
    "        elif curr_month == self.dob.month and curr_day < self.dob.day:\n",
    "            age -= 1\n",
    "\n",
    "        return age\n",
    "\n",
    "\n",
    "p = Person('Tom', 'France', '07/12/1998')\n",
    "print(f'{p.name} is {p.get_age()} years old.')"
   ]
  }
 ],
 "metadata": {
  "kernelspec": {
   "display_name": "env",
   "language": "python",
   "name": "python3"
  },
  "language_info": {
   "codemirror_mode": {
    "name": "ipython",
    "version": 3
   },
   "file_extension": ".py",
   "mimetype": "text/x-python",
   "name": "python",
   "nbconvert_exporter": "python",
   "pygments_lexer": "ipython3",
   "version": "3.10.10"
  }
 },
 "nbformat": 4,
 "nbformat_minor": 2
}
