{
 "cells": [
  {
   "cell_type": "markdown",
   "metadata": {},
   "source": [
    "## Lab Experiment 02\n",
    "### Problem\n",
    "Write a program to demonstrate different data types in python. And write a program to perform different arithmetic operations on numbers in python."
   ]
  },
  {
   "cell_type": "code",
   "execution_count": 3,
   "metadata": {},
   "outputs": [
    {
     "name": "stdout",
     "output_type": "stream",
     "text": [
      "Number data types in Python\n",
      "Data type of 9 is <class 'int'>\n",
      "Data type of 51.89 is <class 'float'>\n",
      "Data type of (6+4j) is <class 'complex'>\n",
      "\n",
      "Arithmetic operations in Python\n",
      "44 + 3 = 47.00\n",
      "44 - 3 = 41.00\n",
      "44 * 3 = 132.00\n",
      "44 / 3 = 14.67\n",
      "44 // 3 = 14.00\n",
      "44 % 3 = 2.00\n",
      "44 ** 3 = 85184.00\n"
     ]
    }
   ],
   "source": [
    "print(\"Number data types in Python\")\n",
    "num1 = 9\n",
    "print(f\"Data type of {num1} is {type(num1)}\")\n",
    "num2 = 51.89\n",
    "print(f\"Data type of {num2} is {type(num2)}\")\n",
    "num3 = 6+4j\n",
    "print(f\"Data type of {num3} is {type(num3)}\")\n",
    "\n",
    "print(\"\\nArithmetic operations in Python\")\n",
    "a = int(input(\"Enter first number: \"))\n",
    "b = int(input(\"Enter second number: \"))\n",
    "\n",
    "print(f\"{a} + {b} = {a+b :.02f}\")\n",
    "print(f\"{a} - {b} = {a-b :.02f}\")\n",
    "print(f\"{a} * {b} = {a*b :.02f}\")\n",
    "print(f\"{a} / {b} = {a/b :.02f}\")\n",
    "print(f\"{a} // {b} = {a//b :.02f}\")\n",
    "print(f\"{a} % {b} = {a%b :.02f}\")\n",
    "print(f\"{a} ** {b} = {a**b :.02f}\")"
   ]
  }
 ],
 "metadata": {
  "kernelspec": {
   "display_name": "env",
   "language": "python",
   "name": "python3"
  },
  "language_info": {
   "codemirror_mode": {
    "name": "ipython",
    "version": 3
   },
   "file_extension": ".py",
   "mimetype": "text/x-python",
   "name": "python",
   "nbconvert_exporter": "python",
   "pygments_lexer": "ipython3",
   "version": "3.10.10"
  }
 },
 "nbformat": 4,
 "nbformat_minor": 2
}
