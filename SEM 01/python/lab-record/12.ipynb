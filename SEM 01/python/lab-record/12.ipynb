{
 "cells": [
  {
   "cell_type": "markdown",
   "metadata": {},
   "source": [
    "## Lab Experiment 12\n",
    "### Problem\n",
    "Create a class that represents a shape and implement subclasses for different shapes like circle, triangle and square, including methods to calculate their area and perimeter"
   ]
  },
  {
   "cell_type": "code",
   "execution_count": 10,
   "metadata": {},
   "outputs": [
    {
     "name": "stdout",
     "output_type": "stream",
     "text": [
      "The area of the circle is 50.27\n",
      "The perimeter of the circle is 25.13\n",
      "\n",
      "The area of the triangle is 6.00\n",
      "The perimeter of the triangle is 12\n",
      "\n",
      "The area of the square is 36\n",
      "The perimeter of the square is 24\n"
     ]
    }
   ],
   "source": [
    "import math\n",
    "\n",
    "\n",
    "class Shape:\n",
    "    def area(self):\n",
    "        pass\n",
    "\n",
    "    def perimeter(self):\n",
    "        pass\n",
    "\n",
    "\n",
    "class Circle(Shape):\n",
    "    def __init__(self, radius):\n",
    "        self.radius = radius\n",
    "\n",
    "    def area(self):\n",
    "        return math.pi * self.radius**2\n",
    "\n",
    "    def perimeter(self):\n",
    "        return 2 * math.pi * self.radius\n",
    "\n",
    "\n",
    "class Triangle(Shape):\n",
    "    def __init__(self, a, b, c):\n",
    "        self.a = a\n",
    "        self.b = b\n",
    "        self.c = c\n",
    "\n",
    "    def area(self):\n",
    "        s = (self.a + self.b + self.c) / 2\n",
    "        return math.sqrt(s * (s-self.a) * (s-self.b) * (s-self.c))\n",
    "\n",
    "    def perimeter(self):\n",
    "        return self.a + self.b + self.c\n",
    "\n",
    "\n",
    "class Square(Shape):\n",
    "    def __init__(self, side):\n",
    "        self.side = side\n",
    "\n",
    "    def area(self):\n",
    "        return self.side**2\n",
    "\n",
    "    def perimeter(self):\n",
    "        return 4 * self.side\n",
    "\n",
    "\n",
    "c = Circle(radius=4)\n",
    "print(f'The area of the circle is {c.area():.2f}')\n",
    "print(f'The perimeter of the circle is {c.perimeter():.2f}\\n')\n",
    "\n",
    "t = Triangle(3, 4, 5)\n",
    "print(f'The area of the triangle is {t.area():.2f}')\n",
    "print(f'The perimeter of the triangle is {t.perimeter()}\\n')\n",
    "\n",
    "s = Square(6)\n",
    "print(f'The area of the square is {s.area()}')\n",
    "print(f'The perimeter of the square is {s.perimeter()}')"
   ]
  }
 ],
 "metadata": {
  "kernelspec": {
   "display_name": "env",
   "language": "python",
   "name": "python3"
  },
  "language_info": {
   "codemirror_mode": {
    "name": "ipython",
    "version": 3
   },
   "file_extension": ".py",
   "mimetype": "text/x-python",
   "name": "python",
   "nbconvert_exporter": "python",
   "pygments_lexer": "ipython3",
   "version": "3.10.10"
  }
 },
 "nbformat": 4,
 "nbformat_minor": 2
}
