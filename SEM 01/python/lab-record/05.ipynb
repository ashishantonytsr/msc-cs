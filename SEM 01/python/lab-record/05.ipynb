{
 "cells": [
  {
   "cell_type": "markdown",
   "metadata": {},
   "source": [
    "## Problem\n",
    "Write a python program to read a list of numbers and sort the list in a non-decreasing order without using built-in functions. A separate function should be created for sorting the list, where list is passed as an argument."
   ]
  },
  {
   "cell_type": "code",
   "execution_count": 2,
   "metadata": {},
   "outputs": [
    {
     "name": "stdout",
     "output_type": "stream",
     "text": [
      "The list is: [5, 2, 4, 9, 12, 8, 18, 19, 16, 11]\n",
      "The sorted list is: [2, 4, 5, 8, 9, 11, 12, 16, 18, 19]\n"
     ]
    }
   ],
   "source": [
    "def sort_list(nums):\n",
    "    n = len(nums)\n",
    "\n",
    "    for i in range(n-1):\n",
    "        for j in range(n-i-1):\n",
    "            if nums[j] > nums[j+1]:\n",
    "                nums[j], nums[j+1] = nums[j+1], nums[j]\n",
    "    return nums\n",
    "\n",
    "\n",
    "nums = input(\"Enter the elements in the list: \").split()\n",
    "nums = [int(num) for num in nums]\n",
    "\n",
    "print(\"The list is:\", nums)\n",
    "print(\"The sorted list is:\", sort_list(nums))"
   ]
  }
 ],
 "metadata": {
  "kernelspec": {
   "display_name": "env",
   "language": "python",
   "name": "python3"
  },
  "language_info": {
   "codemirror_mode": {
    "name": "ipython",
    "version": 3
   },
   "file_extension": ".py",
   "mimetype": "text/x-python",
   "name": "python",
   "nbconvert_exporter": "python",
   "pygments_lexer": "ipython3",
   "version": "3.10.10"
  }
 },
 "nbformat": 4,
 "nbformat_minor": 2
}
