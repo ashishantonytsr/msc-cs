{
 "cells": [
  {
   "cell_type": "markdown",
   "metadata": {},
   "source": [
    "## Part 1: Lists"
   ]
  },
  {
   "cell_type": "markdown",
   "metadata": {},
   "source": [
    "### 1. Basic List Operations:\n",
    "a. Create a list of integers from 1 to 10.\\\n",
    "b. Add the value 11 to the list.\\\n",
    "c. Remove the value 5 from the list.\\\n",
    "d. Insert the value 0 at the beginning of the list.\\\n",
    "e. Print the final list."
   ]
  },
  {
   "cell_type": "code",
   "execution_count": 36,
   "metadata": {},
   "outputs": [
    {
     "name": "stdout",
     "output_type": "stream",
     "text": [
      "The final list is  [0, 1, 2, 3, 4, 6, 7, 8, 9, 10, 11]\n"
     ]
    }
   ],
   "source": [
    "# Create a list of integers from 1 to 10\n",
    "l = [1, 2, 3, 4, 5, 6, 7, 8, 9, 10]\n",
    "\n",
    "# Add the value 11 to the list\n",
    "l.append(11)\n",
    "\n",
    "# Remove the value 5 from the list\n",
    "l.remove(5)\n",
    "\n",
    "# Insert the value 0 at the beginning of the list\n",
    "l.insert(0,0)\n",
    "\n",
    "# Print the final list\n",
    "print(\"The final list is \", l)"
   ]
  },
  {
   "cell_type": "markdown",
   "metadata": {},
   "source": [
    "### 2. List Iteration and Comprehensions:\n",
    "a. Write a `for` loop to iterate through the list you created in Task 1 and print each element.\\\n",
    "b. Use list comprehension to create a new list that contains the squares of each element in your original list.\\\n",
    "c. Print this new list."
   ]
  },
  {
   "cell_type": "code",
   "execution_count": 67,
   "metadata": {},
   "outputs": [
    {
     "name": "stdout",
     "output_type": "stream",
     "text": [
      "Printing the list:  0 1 2 3 4 6 7 8 9 10 11 \n",
      "New list: [0, 1, 4, 9, 16, 36, 49, 64, 81, 100, 121]\n"
     ]
    }
   ],
   "source": [
    "# Printing the elements of the list\n",
    "print(\"Printing the list: \", end=' ')\n",
    "for item in l:\n",
    "    print(item, end=' ')\n",
    "print()\n",
    "\n",
    "# Create new list with squares of elements in `l`, using list comprehension\n",
    "l1 = [item**2 for item in l]\n",
    "\n",
    "# Print the new list\n",
    "print(\"New list:\", l1)"
   ]
  },
  {
   "cell_type": "markdown",
   "metadata": {},
   "source": [
    "### 3. Indexing and Slicing:\n",
    "**Using the list from Task 1, demonstrate accessing elements using indexing:**\\\n",
    "a. Print the first element.\\\n",
    "b. Print the last element using negative indexing.\n",
    "\n",
    "**Slice the list to print:**\\\n",
    "a. The first five elements.\\\n",
    "b. Every second element from the list.\n"
   ]
  },
  {
   "cell_type": "code",
   "execution_count": 68,
   "metadata": {},
   "outputs": [
    {
     "name": "stdout",
     "output_type": "stream",
     "text": [
      "The first element in the list is 0\n",
      "The last element in the list is 11\n",
      "The first five elements in the list are [0, 1, 2, 3, 4]\n",
      "The even position elements in the list are [1, 3, 6, 8, 10]\n"
     ]
    }
   ],
   "source": [
    "# Print the first element\n",
    "print(\"The first element in the list is\", l[0])\n",
    "\n",
    "# Print the last element using negative indexing\n",
    "print(\"The last element in the list is\", l[-1])\n",
    "\n",
    "# Print the first five elements using list slicing\n",
    "print(\"The first five elements in the list are\", l[:5])\n",
    "\n",
    "# Print every second element in the list using list slicing\n",
    "print(\"The even position elements in the list are\", l[1::2])"
   ]
  },
  {
   "cell_type": "markdown",
   "metadata": {},
   "source": [
    "### 4. Two-Dimensional Lists:\n",
    "a. Create a 3x3 matrix (a list of lists) with values ranging from 1 to 9 (like a grid of numbers).\\\n",
    "b. Print the entire matrix.\\\n",
    "c. Access and print the element in the second row, third column.\n"
   ]
  },
  {
   "cell_type": "code",
   "execution_count": 77,
   "metadata": {},
   "outputs": [
    {
     "name": "stdout",
     "output_type": "stream",
     "text": [
      "The matrix is: \n",
      "[1, 2, 3]\n",
      "[4, 5, 6]\n",
      "[7, 8, 9]\n",
      "Element in second row, third col is 6\n"
     ]
    }
   ],
   "source": [
    "# Create a 3x3 matrix with values 1 to 9\n",
    "matrix = [[1, 2, 3], [4, 5, 6], [7, 8, 9]]\n",
    "\n",
    "# Print the matrix\n",
    "print(\"The matrix is: \")\n",
    "for row in matrix:\n",
    "    print(row)\n",
    "\n",
    "# Print element in second row, third col\n",
    "print(\"Element in second row, third col is\", matrix[1][2])"
   ]
  },
  {
   "cell_type": "markdown",
   "metadata": {},
   "source": [
    "### 5. Iterating through Two-Dimensional Lists:\n",
    "Write nested loops to iterate through the matrix created in Task 4 and print each element."
   ]
  },
  {
   "cell_type": "code",
   "execution_count": 85,
   "metadata": {},
   "outputs": [
    {
     "name": "stdout",
     "output_type": "stream",
     "text": [
      "The matrix is:\n",
      "1 2 3 \n",
      "4 5 6 \n",
      "7 8 9 \n"
     ]
    }
   ],
   "source": [
    "# Nested loop to iterate through matrix\n",
    "print(\"The matrix is:\")\n",
    "for row in matrix:\n",
    "    for item in row:\n",
    "        print(item, end=' ')\n",
    "    print()"
   ]
  },
  {
   "cell_type": "markdown",
   "metadata": {},
   "source": [
    "---\n",
    "## Part 2: Dictionaries"
   ]
  },
  {
   "cell_type": "markdown",
   "metadata": {},
   "source": [
    "### 1. Basic Dictionary Operations:\n",
    "Create a dictionary representing a student, with the following key-value pairs:\n",
    "```python\n",
    "'name': \"Alice\"\n",
    "'age': 22\n",
    "'major': \"Computer Science\"\n",
    "```\n",
    "a. Add a new key-value pair `'GPA': 3.8`.\\\n",
    "b. Update the `age` to 23.\\\n",
    "c. Remove the `major` key.\\\n",
    "d. Print the final dictionary.\n"
   ]
  },
  {
   "cell_type": "code",
   "execution_count": 92,
   "metadata": {},
   "outputs": [
    {
     "name": "stdout",
     "output_type": "stream",
     "text": [
      "Final dictionary: {'name': 'Alice', 'age': 23, 'GPA': 3.8}\n"
     ]
    }
   ],
   "source": [
    "# Create a dictionary representing a student\n",
    "student = {\n",
    "    'name': 'Alice',\n",
    "    'age': 22,\n",
    "    'major': 'Computer Science'\n",
    "}\n",
    "\n",
    "# Add new key-value pair\n",
    "student['GPA'] = 3.8\n",
    "\n",
    "# Update the 'age'\n",
    "student['age'] = 23\n",
    "\n",
    "# Remove the 'major' key\n",
    "del student['major']\n",
    "\n",
    "# Print the dictionary\n",
    "print(\"Final dictionary:\", student)"
   ]
  },
  {
   "cell_type": "markdown",
   "metadata": {},
   "source": [
    "### 2. Changing Dictionaries in Place:\n",
    "Change the 'GPA' of the student to 4.0 and print the updated dictionary."
   ]
  },
  {
   "cell_type": "code",
   "execution_count": 98,
   "metadata": {},
   "outputs": [
    {
     "name": "stdout",
     "output_type": "stream",
     "text": [
      "Updated dictionary: {'name': 'Alice', 'age': 23, 'GPA': 4.0}\n"
     ]
    }
   ],
   "source": [
    "# Update GPA\n",
    "student['GPA'] = 4.0\n",
    "\n",
    "# Print updated dictionary\n",
    "print(\"Updated dictionary:\", student)"
   ]
  },
  {
   "cell_type": "markdown",
   "metadata": {},
   "source": [
    "### 3. Dictionary Methods:\n",
    "Using the dictionary from Task 1, demonstrate the use of the following methods:\n",
    "\n",
    "keys(): Print all keys.\\\n",
    "values(): Print all values.\\\n",
    "items(): Print all key-value pairs."
   ]
  },
  {
   "cell_type": "code",
   "execution_count": 99,
   "metadata": {},
   "outputs": [
    {
     "name": "stdout",
     "output_type": "stream",
     "text": [
      "dict_keys(['name', 'age', 'GPA'])\n",
      "dict_values(['Alice', 23, 4.0])\n",
      "dict_items([('name', 'Alice'), ('age', 23), ('GPA', 4.0)])\n"
     ]
    }
   ],
   "source": [
    "# Print all keys\n",
    "print(student.keys())\n",
    "\n",
    "# Print all values\n",
    "print(student.values())\n",
    "\n",
    "# Print all key-value pairs\n",
    "print(student.items())"
   ]
  },
  {
   "cell_type": "markdown",
   "metadata": {},
   "source": [
    "### 4. Example: Movie Database:\n",
    "Create a dictionary called `movie_db` that stores information about 3 movies. Each movie title will be the key, and the value will be another dictionary with information like director, year, and rating (out of 10).\\\n",
    "Example structure:\n",
    "\n",
    "``` python\n",
    "movie_db = {\n",
    "    'Inception': {\n",
    "        'director': 'Christopher Nolan', \n",
    "        'year': 2010, \n",
    "        'rating': 8.8\n",
    "    },\n",
    "    'The Matrix': {\n",
    "        'director': 'The Wachowskis', \n",
    "        'year': 1999, \n",
    "        'rating': 8.7\n",
    "    },\n",
    "    'Parasite': {\n",
    "        'director': 'Bong Joon-ho', \n",
    "        'year': 2019, \n",
    "        'rating': 8.6\n",
    "    }\n",
    "}\n",
    "```\n",
    "a. Access and print the director of \"Inception\".\\\n",
    "b. Add a new movie to the database and print the updated dictionary."
   ]
  },
  {
   "cell_type": "code",
   "execution_count": 100,
   "metadata": {},
   "outputs": [
    {
     "name": "stdout",
     "output_type": "stream",
     "text": [
      "The director of Inception is Christopher Nolan\n",
      "{'Inception': {'director': 'Christopher Nolan', 'year': 2010, 'rating': 8.8}, 'The Matrix': {'director': 'The Wachowskis', 'year': 1999, 'rating': 8.7}, 'Parasite': {'director': 'Bong Joon-ho', 'year': 2019, 'rating': 8.6}, 'Interstellar': {'director': 'Christopher Nolan', 'year': 2014, 'rating': 8.7}}\n"
     ]
    }
   ],
   "source": [
    "# Create a dictionary\n",
    "movie_db = {\n",
    "    'Inception': {\n",
    "        'director': 'Christopher Nolan', \n",
    "        'year': 2010, \n",
    "        'rating': 8.8\n",
    "    },\n",
    "    'The Matrix': {\n",
    "        'director': 'The Wachowskis', \n",
    "        'year': 1999, \n",
    "        'rating': 8.7\n",
    "    },\n",
    "    'Parasite': {\n",
    "        'director': 'Bong Joon-ho', \n",
    "        'year': 2019, \n",
    "        'rating': 8.6\n",
    "    }\n",
    "}\n",
    "\n",
    "# Print the director of 'Inception'\n",
    "print(\"The director of Inception is\", movie_db['Inception']['director'])\n",
    "\n",
    "# Add new movie to database\n",
    "movie = {\n",
    "    'Interstellar': {\n",
    "        'director': 'Christopher Nolan',\n",
    "        'year': 2014,\n",
    "        'rating': 8.7\n",
    "    }\n",
    "}\n",
    "movie_db.update(movie)\n",
    "\n",
    "# Print dictionary\n",
    "print(movie_db)"
   ]
  },
  {
   "cell_type": "markdown",
   "metadata": {},
   "source": [
    "---\n",
    "## Part 3: Tuples and Sets"
   ]
  },
  {
   "cell_type": "markdown",
   "metadata": {},
   "source": [
    "### 1. Tuples - Properties, Operators, and Methods:\n",
    "a. Create a tuple with the values ('red', 'green', 'blue').\\\n",
    "b. Print the first element of the tuple.\\\n",
    "c. Try to change the second element of the tuple (observe what happens and explain why).\\\n",
    "d. Use the count() method to count how many times 'blue' appears in the tuple.\\\n",
    "e. Use the index() method to find the index of 'green' in the tuple."
   ]
  },
  {
   "cell_type": "code",
   "execution_count": 101,
   "metadata": {},
   "outputs": [
    {
     "name": "stdout",
     "output_type": "stream",
     "text": [
      "The first element in the tuple is red\n",
      "The count of 'blue' is 1\n",
      "The index of 'green' is 1\n"
     ]
    }
   ],
   "source": [
    "# Create a tuple\n",
    "colors = ('red', 'green', 'blue')\n",
    "\n",
    "# Print the first element\n",
    "print(\"The first element in the tuple is\", colors[0])\n",
    "\n",
    "# update second element\n",
    "'''\n",
    "colors[1] = 'yellow'\n",
    "'''\n",
    "# Error: tuple objects are immutable, hence elements cannot be reassigned\n",
    "\n",
    "# Use count() to print the number of occurences of 'blue'\n",
    "print(\"The count of 'blue' is\", colors.count('blue'))\n",
    "\n",
    "# Find index of color green using index()\n",
    "print(\"The index of 'green' is\", colors.index('green'))"
   ]
  },
  {
   "cell_type": "markdown",
   "metadata": {},
   "source": [
    "### 2. Sets - Properties, Operators, and Methods:\n",
    "Create two sets:\n",
    "```python\n",
    "set1 = {1, 2, 3, 4, 5}\n",
    "set2 = {4, 5, 6, 7, 8}\n",
    "```\n",
    "\n",
    "a. Perform the following operations:\\\n",
    "&emsp;i. Find the union of the two sets.\\\n",
    "&emsp;ii. Find the intersection of the two sets.\\\n",
    "&emsp;iii. Find the difference between set1 and set2.\\\n",
    "b. Add the value 9 to set1.\\\n",
    "c. Remove the value 3 from set1.\\\n",
    "d. Print the final state of both sets."
   ]
  },
  {
   "cell_type": "code",
   "execution_count": 102,
   "metadata": {},
   "outputs": [
    {
     "name": "stdout",
     "output_type": "stream",
     "text": [
      "The union of sets is {1, 2, 3, 4, 5, 6, 7, 8}\n",
      "The intersection of sets is {4, 5}\n",
      "The difference of sets is {1, 2, 3}\n",
      "set1: {1, 2, 4, 5, 9}\n",
      "set2: {4, 5, 6, 7, 8}\n"
     ]
    }
   ],
   "source": [
    "# Create two sets\n",
    "set1 = {1, 2, 3, 4, 5}\n",
    "set2 = {4, 5, 6, 7, 8}\n",
    "\n",
    "# Find union of sets\n",
    "print(\"The union of sets is\", set1.union(set2))\n",
    "\n",
    "# Find intersetion of sets\n",
    "print(\"The intersection of sets is\", set1.intersection(set2))\n",
    "\n",
    "# Find difference between sets\n",
    "print(\"The difference of sets is\", set1.difference(set2))\n",
    "\n",
    "# Add value 9 to set1\n",
    "set1.add(9)\n",
    "\n",
    "# Remove value 3 from set1\n",
    "set1.remove(3)\n",
    "\n",
    "# Print sets\n",
    "print(\"set1:\", set1)\n",
    "print(\"set2:\", set2)"
   ]
  }
 ],
 "metadata": {
  "kernelspec": {
   "display_name": "env",
   "language": "python",
   "name": "python3"
  },
  "language_info": {
   "codemirror_mode": {
    "name": "ipython",
    "version": 3
   },
   "file_extension": ".py",
   "mimetype": "text/x-python",
   "name": "python",
   "nbconvert_exporter": "python",
   "pygments_lexer": "ipython3",
   "version": "3.10.10"
  }
 },
 "nbformat": 4,
 "nbformat_minor": 2
}
